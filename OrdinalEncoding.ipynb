{
 "cells": [
  {
   "cell_type": "code",
   "execution_count": 1,
   "id": "900695c2-ffc5-47c8-b35d-8fa819c7c691",
   "metadata": {},
   "outputs": [],
   "source": [
    "import pandas as pd\n"
   ]
  },
  {
   "cell_type": "code",
   "execution_count": 2,
   "id": "077d73a8-b649-4fd7-92d0-34111d71e131",
   "metadata": {},
   "outputs": [],
   "source": [
    "dataset= pd.read_excel(\"D:\\Study\\Machine Learning\\OneHotEncoding\\dataset1.xlsx\")\n"
   ]
  },
  {
   "cell_type": "code",
   "execution_count": 3,
   "id": "f78cfe4d-e101-46b7-8fcc-926223946f20",
   "metadata": {},
   "outputs": [
    {
     "ename": "SyntaxError",
     "evalue": "invalid syntax (102007925.py, line 1)",
     "output_type": "error",
     "traceback": [
      "\u001b[1;36m  Cell \u001b[1;32mIn[3], line 1\u001b[1;36m\u001b[0m\n\u001b[1;33m    df=pd.DataFrame(\"size\":[\"s\",\"m\",\"l\",\"xl\",\"s\",\"s\",\"m\",\"l\",\"xl\",\"s\",\"m\",\"l\",\"xl\",\"s\",\"m\",\"l\",\"xl\"])\u001b[0m\n\u001b[1;37m                          ^\u001b[0m\n\u001b[1;31mSyntaxError\u001b[0m\u001b[1;31m:\u001b[0m invalid syntax\n"
     ]
    }
   ],
   "source": [
    "df=pd.DataFrame(\"size\":[\"s\",\"m\",\"l\",\"xl\",\"s\",\"s\",\"m\",\"l\",\"xl\",\"s\",\"m\",\"l\",\"xl\",\"s\",\"m\",\"l\",\"xl\"])\n",
    "df"
   ]
  },
  {
   "cell_type": "code",
   "execution_count": null,
   "id": "6515ed8a-63e9-4aff-9a0d-4c0093f6f11f",
   "metadata": {},
   "outputs": [],
   "source": []
  }
 ],
 "metadata": {
  "kernelspec": {
   "display_name": "Python 3 (ipykernel)",
   "language": "python",
   "name": "python3"
  },
  "language_info": {
   "codemirror_mode": {
    "name": "ipython",
    "version": 3
   },
   "file_extension": ".py",
   "mimetype": "text/x-python",
   "name": "python",
   "nbconvert_exporter": "python",
   "pygments_lexer": "ipython3",
   "version": "3.11.4"
  }
 },
 "nbformat": 4,
 "nbformat_minor": 5
}
