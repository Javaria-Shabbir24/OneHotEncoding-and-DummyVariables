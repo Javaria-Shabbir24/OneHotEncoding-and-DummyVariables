{
 "cells": [
  {
   "cell_type": "code",
   "execution_count": 29,
   "id": "900695c2-ffc5-47c8-b35d-8fa819c7c691",
   "metadata": {},
   "outputs": [],
   "source": [
    "import pandas as pd\n"
   ]
  },
  {
   "cell_type": "code",
   "execution_count": 30,
   "id": "077d73a8-b649-4fd7-92d0-34111d71e131",
   "metadata": {},
   "outputs": [],
   "source": [
    "dataset= pd.read_excel(\"D:\\Study\\Machine Learning\\OneHotEncoding\\dataset1.xlsx\")\n"
   ]
  },
  {
   "cell_type": "code",
   "execution_count": 31,
   "id": "f78cfe4d-e101-46b7-8fcc-926223946f20",
   "metadata": {},
   "outputs": [
    {
     "data": {
      "text/html": [
       "<div>\n",
       "<style scoped>\n",
       "    .dataframe tbody tr th:only-of-type {\n",
       "        vertical-align: middle;\n",
       "    }\n",
       "\n",
       "    .dataframe tbody tr th {\n",
       "        vertical-align: top;\n",
       "    }\n",
       "\n",
       "    .dataframe thead th {\n",
       "        text-align: right;\n",
       "    }\n",
       "</style>\n",
       "<table border=\"1\" class=\"dataframe\">\n",
       "  <thead>\n",
       "    <tr style=\"text-align: right;\">\n",
       "      <th></th>\n",
       "      <th>size</th>\n",
       "    </tr>\n",
       "  </thead>\n",
       "  <tbody>\n",
       "    <tr>\n",
       "      <th>0</th>\n",
       "      <td>s</td>\n",
       "    </tr>\n",
       "    <tr>\n",
       "      <th>1</th>\n",
       "      <td>m</td>\n",
       "    </tr>\n",
       "    <tr>\n",
       "      <th>2</th>\n",
       "      <td>l</td>\n",
       "    </tr>\n",
       "    <tr>\n",
       "      <th>3</th>\n",
       "      <td>xl</td>\n",
       "    </tr>\n",
       "    <tr>\n",
       "      <th>4</th>\n",
       "      <td>s</td>\n",
       "    </tr>\n",
       "    <tr>\n",
       "      <th>5</th>\n",
       "      <td>s</td>\n",
       "    </tr>\n",
       "    <tr>\n",
       "      <th>6</th>\n",
       "      <td>m</td>\n",
       "    </tr>\n",
       "    <tr>\n",
       "      <th>7</th>\n",
       "      <td>l</td>\n",
       "    </tr>\n",
       "    <tr>\n",
       "      <th>8</th>\n",
       "      <td>xl</td>\n",
       "    </tr>\n",
       "    <tr>\n",
       "      <th>9</th>\n",
       "      <td>s</td>\n",
       "    </tr>\n",
       "    <tr>\n",
       "      <th>10</th>\n",
       "      <td>m</td>\n",
       "    </tr>\n",
       "    <tr>\n",
       "      <th>11</th>\n",
       "      <td>l</td>\n",
       "    </tr>\n",
       "    <tr>\n",
       "      <th>12</th>\n",
       "      <td>xl</td>\n",
       "    </tr>\n",
       "    <tr>\n",
       "      <th>13</th>\n",
       "      <td>s</td>\n",
       "    </tr>\n",
       "    <tr>\n",
       "      <th>14</th>\n",
       "      <td>m</td>\n",
       "    </tr>\n",
       "    <tr>\n",
       "      <th>15</th>\n",
       "      <td>l</td>\n",
       "    </tr>\n",
       "    <tr>\n",
       "      <th>16</th>\n",
       "      <td>xl</td>\n",
       "    </tr>\n",
       "  </tbody>\n",
       "</table>\n",
       "</div>"
      ],
      "text/plain": [
       "   size\n",
       "0     s\n",
       "1     m\n",
       "2     l\n",
       "3    xl\n",
       "4     s\n",
       "5     s\n",
       "6     m\n",
       "7     l\n",
       "8    xl\n",
       "9     s\n",
       "10    m\n",
       "11    l\n",
       "12   xl\n",
       "13    s\n",
       "14    m\n",
       "15    l\n",
       "16   xl"
      ]
     },
     "execution_count": 31,
     "metadata": {},
     "output_type": "execute_result"
    }
   ],
   "source": [
    "df=pd.DataFrame({\"size\":[\"s\",\"m\",\"l\",\"xl\",\"s\",\"s\",\"m\",\"l\",\"xl\",\"s\",\"m\",\"l\",\"xl\",\"s\",\"m\",\"l\",\"xl\"]})\n",
    "df"
   ]
  },
  {
   "cell_type": "code",
   "execution_count": 32,
   "id": "6515ed8a-63e9-4aff-9a0d-4c0093f6f11f",
   "metadata": {},
   "outputs": [],
   "source": [
    "ord_data=[[\"s\",\"m\",\"l\",\"xl\"]]"
   ]
  },
  {
   "cell_type": "code",
   "execution_count": 33,
   "id": "69203d85-8f67-4940-8649-e8f6826f97c7",
   "metadata": {},
   "outputs": [
    {
     "data": {
      "text/plain": [
       "[['s', 'm', 'l', 'xl']]"
      ]
     },
     "execution_count": 33,
     "metadata": {},
     "output_type": "execute_result"
    }
   ],
   "source": [
    "ord_data"
   ]
  },
  {
   "cell_type": "code",
   "execution_count": 34,
   "id": "93c4b60e-92b9-4b89-a5c3-d8180bc227eb",
   "metadata": {},
   "outputs": [],
   "source": [
    "from sklearn.preprocessing import OrdinalEncoder"
   ]
  },
  {
   "cell_type": "code",
   "execution_count": 35,
   "id": "4cade4d3-e457-41de-8801-47858fa7fe0c",
   "metadata": {},
   "outputs": [],
   "source": [
    "oe = OrdinalEncoder(categories=ord_data)"
   ]
  },
  {
   "cell_type": "code",
   "execution_count": 37,
   "id": "3fa7e269-ab4d-4541-8d47-605fd7c27887",
   "metadata": {
    "scrolled": true
   },
   "outputs": [],
   "source": [
    "df[\"size_encoded\"]=oe.fit_transform(df[[\"size\"]])\n",
    "       "
   ]
  },
  {
   "cell_type": "code",
   "execution_count": 38,
   "id": "d81bff4d-9c56-4231-b269-b896c6816c6d",
   "metadata": {},
   "outputs": [
    {
     "data": {
      "text/html": [
       "<div>\n",
       "<style scoped>\n",
       "    .dataframe tbody tr th:only-of-type {\n",
       "        vertical-align: middle;\n",
       "    }\n",
       "\n",
       "    .dataframe tbody tr th {\n",
       "        vertical-align: top;\n",
       "    }\n",
       "\n",
       "    .dataframe thead th {\n",
       "        text-align: right;\n",
       "    }\n",
       "</style>\n",
       "<table border=\"1\" class=\"dataframe\">\n",
       "  <thead>\n",
       "    <tr style=\"text-align: right;\">\n",
       "      <th></th>\n",
       "      <th>size</th>\n",
       "      <th>size_encoded</th>\n",
       "    </tr>\n",
       "  </thead>\n",
       "  <tbody>\n",
       "    <tr>\n",
       "      <th>0</th>\n",
       "      <td>s</td>\n",
       "      <td>0.0</td>\n",
       "    </tr>\n",
       "    <tr>\n",
       "      <th>1</th>\n",
       "      <td>m</td>\n",
       "      <td>1.0</td>\n",
       "    </tr>\n",
       "    <tr>\n",
       "      <th>2</th>\n",
       "      <td>l</td>\n",
       "      <td>2.0</td>\n",
       "    </tr>\n",
       "    <tr>\n",
       "      <th>3</th>\n",
       "      <td>xl</td>\n",
       "      <td>3.0</td>\n",
       "    </tr>\n",
       "    <tr>\n",
       "      <th>4</th>\n",
       "      <td>s</td>\n",
       "      <td>0.0</td>\n",
       "    </tr>\n",
       "    <tr>\n",
       "      <th>5</th>\n",
       "      <td>s</td>\n",
       "      <td>0.0</td>\n",
       "    </tr>\n",
       "    <tr>\n",
       "      <th>6</th>\n",
       "      <td>m</td>\n",
       "      <td>1.0</td>\n",
       "    </tr>\n",
       "    <tr>\n",
       "      <th>7</th>\n",
       "      <td>l</td>\n",
       "      <td>2.0</td>\n",
       "    </tr>\n",
       "    <tr>\n",
       "      <th>8</th>\n",
       "      <td>xl</td>\n",
       "      <td>3.0</td>\n",
       "    </tr>\n",
       "    <tr>\n",
       "      <th>9</th>\n",
       "      <td>s</td>\n",
       "      <td>0.0</td>\n",
       "    </tr>\n",
       "    <tr>\n",
       "      <th>10</th>\n",
       "      <td>m</td>\n",
       "      <td>1.0</td>\n",
       "    </tr>\n",
       "    <tr>\n",
       "      <th>11</th>\n",
       "      <td>l</td>\n",
       "      <td>2.0</td>\n",
       "    </tr>\n",
       "    <tr>\n",
       "      <th>12</th>\n",
       "      <td>xl</td>\n",
       "      <td>3.0</td>\n",
       "    </tr>\n",
       "    <tr>\n",
       "      <th>13</th>\n",
       "      <td>s</td>\n",
       "      <td>0.0</td>\n",
       "    </tr>\n",
       "    <tr>\n",
       "      <th>14</th>\n",
       "      <td>m</td>\n",
       "      <td>1.0</td>\n",
       "    </tr>\n",
       "    <tr>\n",
       "      <th>15</th>\n",
       "      <td>l</td>\n",
       "      <td>2.0</td>\n",
       "    </tr>\n",
       "    <tr>\n",
       "      <th>16</th>\n",
       "      <td>xl</td>\n",
       "      <td>3.0</td>\n",
       "    </tr>\n",
       "  </tbody>\n",
       "</table>\n",
       "</div>"
      ],
      "text/plain": [
       "   size  size_encoded\n",
       "0     s           0.0\n",
       "1     m           1.0\n",
       "2     l           2.0\n",
       "3    xl           3.0\n",
       "4     s           0.0\n",
       "5     s           0.0\n",
       "6     m           1.0\n",
       "7     l           2.0\n",
       "8    xl           3.0\n",
       "9     s           0.0\n",
       "10    m           1.0\n",
       "11    l           2.0\n",
       "12   xl           3.0\n",
       "13    s           0.0\n",
       "14    m           1.0\n",
       "15    l           2.0\n",
       "16   xl           3.0"
      ]
     },
     "execution_count": 38,
     "metadata": {},
     "output_type": "execute_result"
    }
   ],
   "source": [
    "df"
   ]
  },
  {
   "cell_type": "markdown",
   "id": "fe694e7e-2866-4f49-8ef5-8b1efe4b4f45",
   "metadata": {},
   "source": [
    "# By map function"
   ]
  },
  {
   "cell_type": "code",
   "execution_count": 39,
   "id": "51eedbcd-f3d3-47cc-b82b-9a03b08c4a0e",
   "metadata": {},
   "outputs": [],
   "source": [
    "ord_data1={\"s\":10,\"m\":100,\"l\":1000,\"xl\":10000}"
   ]
  },
  {
   "cell_type": "code",
   "execution_count": 40,
   "id": "70ac427d-1620-4345-a188-5a581e655952",
   "metadata": {},
   "outputs": [
    {
     "data": {
      "text/plain": [
       "0        10\n",
       "1       100\n",
       "2      1000\n",
       "3     10000\n",
       "4        10\n",
       "5        10\n",
       "6       100\n",
       "7      1000\n",
       "8     10000\n",
       "9        10\n",
       "10      100\n",
       "11     1000\n",
       "12    10000\n",
       "13       10\n",
       "14      100\n",
       "15     1000\n",
       "16    10000\n",
       "Name: size, dtype: int64"
      ]
     },
     "execution_count": 40,
     "metadata": {},
     "output_type": "execute_result"
    }
   ],
   "source": [
    "df[\"enc_by_map\"]=df[\"size\"].map(ord_data1)"
   ]
  },
  {
   "cell_type": "code",
   "execution_count": null,
   "id": "682a094b-926c-4ebb-b3ed-3630b6f64275",
   "metadata": {},
   "outputs": [],
   "source": []
  }
 ],
 "metadata": {
  "kernelspec": {
   "display_name": "Python 3 (ipykernel)",
   "language": "python",
   "name": "python3"
  },
  "language_info": {
   "codemirror_mode": {
    "name": "ipython",
    "version": 3
   },
   "file_extension": ".py",
   "mimetype": "text/x-python",
   "name": "python",
   "nbconvert_exporter": "python",
   "pygments_lexer": "ipython3",
   "version": "3.11.4"
  }
 },
 "nbformat": 4,
 "nbformat_minor": 5
}
